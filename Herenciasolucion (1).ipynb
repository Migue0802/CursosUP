{
  "nbformat": 4,
  "nbformat_minor": 0,
  "metadata": {
    "colab": {
      "name": "Herenciasolucion.ipynb",
      "provenance": []
    },
    "kernelspec": {
      "name": "python3",
      "display_name": "Python 3"
    },
    "language_info": {
      "name": "python"
    }
  },
  "cells": [
    {
      "cell_type": "code",
      "execution_count": 11,
      "metadata": {
        "id": "2hIneDfiPKqq"
      },
      "outputs": [],
      "source": [
        "class Trabajador:\n",
        "    nombre: str\n",
        "    antiguedad: int\n",
        "    base: int\n",
        "\n",
        "    def calcularsueldo(self):\n",
        "        print(self.base + self.antiguedad*1000)\n",
        "\n",
        "\n",
        "class Programador(Trabajador):\n",
        "    def __init__(self, nombre, antiguedad):\n",
        "      self.nombre = nombre\n",
        "      self.antiguedad = antiguedad\n",
        "      self.base = 25000\n",
        "    def trabajar(self):\n",
        "      print(\"Programa\")\n",
        "\n",
        "class Secretaria(Trabajador):\n",
        "    def __init__(self, nombre, antiguedad):\n",
        "      self.nombre = nombre\n",
        "      self.antiguedad = antiguedad\n",
        "      self.base = 15000\n",
        "    def trabajar(self):\n",
        "      print(\"Apoya\")\n",
        "\n",
        "class Gerente(Trabajador):\n",
        "    def __init__(self, nombre, antiguedad):\n",
        "      self.nombre = nombre\n",
        "      self.antiguedad = antiguedad\n",
        "      self.base = 50000\n",
        "\n",
        "    def calcularsueldo(self):\n",
        "        print(self.base)\n",
        "\n",
        "    def trabajar(self):\n",
        "      print(\"Gerencia\")\n",
        "\n",
        "    def cambiarsueldo(self, empleado):\n",
        "      print(\"¿Cual quieres que sea el salario base?\")\n",
        "      nuevo_salario = input()\n",
        "      if empleado.base < int(nuevo_salario):\n",
        "        empleado.base = int(nuevo_salario)\n",
        "      else:\n",
        "        print(\"No se puede poner un salario menor al anterior\")"
      ]
    },
    {
      "cell_type": "code",
      "source": [
        "Brandon = Programador(\"Brandon\", 15)\n",
        "Brandon.calcularsueldo()\n",
        "Brandon.trabajar()\n",
        "\n",
        "print()\n",
        "\n",
        "Gabo = Secretaria(\"Gabo\", 10)\n",
        "Gabo.calcularsueldo()\n",
        "Gabo.trabajar()\n",
        "\n",
        "print()\n",
        "\n",
        "Miguel = Gerente(\"Gerente\", 30)\n",
        "Miguel.calcularsueldo()\n",
        "Miguel.trabajar()\n",
        "Miguel.cambiarsueldo(Brandon)\n",
        "Brandon.calcularsueldo()"
      ],
      "metadata": {
        "colab": {
          "base_uri": "https://localhost:8080/"
        },
        "id": "239vX45CQGH1",
        "outputId": "5d9d25e1-326c-41be-fd8a-c3d0906adf79"
      },
      "execution_count": 12,
      "outputs": [
        {
          "output_type": "stream",
          "name": "stdout",
          "text": [
            "40000\n",
            "Programa\n",
            "\n",
            "25000\n",
            "Apoya\n",
            "\n",
            "50000\n",
            "Gerencia\n",
            "¿Cual quieres que sea el salario base?\n",
            "50000\n",
            "65000\n"
          ]
        }
      ]
    }
  ]
}