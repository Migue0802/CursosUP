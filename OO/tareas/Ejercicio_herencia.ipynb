{
  "nbformat": 4,
  "nbformat_minor": 0,
  "metadata": {
    "colab": {
      "name": "Ejercicio herencia.ipynb",
      "provenance": []
    },
    "kernelspec": {
      "name": "python3",
      "display_name": "Python 3"
    },
    "language_info": {
      "name": "python"
    }
  },
  "cells": [
    {
      "cell_type": "code",
      "execution_count": null,
      "metadata": {
        "id": "ExYH64EKDOPo"
      },
      "outputs": [],
      "source": [
        "class Trabajador:\n",
        "    nombre: str\n",
        "    antiguedad: int\n",
        "    base: int\n",
        "\n",
        "    def calcularsueldo(self):\n",
        "        print(self.base + self.antiguedad*1000)\n",
        "\n",
        "\n",
        "class Programador(Trabajador):\n",
        "    def __init__(self, nombre, antiguedad):\n",
        "      self.nombre = nombre\n",
        "      self.antiguedad = antiguedad\n",
        "      self.base = 25000\n",
        "    def trabajar(self):\n",
        "      print(\"Programa\")\n",
        "\n",
        "class Secretaria(Trabajador):\n",
        "    def __init__(self, nombre, antiguedad):\n",
        "      self.nombre = nombre\n",
        "      self.antiguedad = antiguedad\n",
        "      self.base = 15000\n",
        "    def trabajar(self):\n",
        "      print(\"Apoya\")\n",
        "\n",
        "class Gerente(Trabajador):\n",
        "    def __init__(self, nombre, antiguedad):\n",
        "      self.nombre = nombre\n",
        "      self.antiguedad = antiguedad\n",
        "      self.base = 50000\n",
        "\n",
        "    def calcularsueldo(self):\n",
        "        print(self.base)\n",
        "\n",
        "    def trabajar(self):\n",
        "      print(\"Gerencia\")\n",
        "\n",
        "    def cambiarsueldo(self):\n",
        "      print(\"¿Cual quieres que sea el salario base?\")\n",
        "      nuevo_salario = input()\n",
        "      return nuevo_salario"
      ]
    },
    {
      "cell_type": "code",
      "source": [
        "Brandon = Programador(\"Brandon\", 15)\n",
        "Brandon.calcularsueldo()\n",
        "Brandon.trabajar()\n",
        "\n",
        "print()\n",
        "\n",
        "Gabo = Secretaria(\"Gabo\", 10)\n",
        "Gabo.calcularsueldo()\n",
        "Gabo.trabajar()\n",
        "\n",
        "print()\n",
        "\n",
        "Miguel = Gerente(\"Gerente\", 30)\n",
        "Miguel.calcularsueldo()\n",
        "Miguel.trabajar()\n",
        "print(\"Quieres cambiar el sueldo? \")\n",
        "opcion = input()\n",
        "if(opcion == \"si\"):\n",
        "    nuevo_salario = Miguel.cambiarsueldo()\n",
        "    #print(\"¿A que programador quieres cambiarle el sueldo?\")\n",
        "    programador = Brandon\n",
        "    if type(Miguel) == Gerente and type(programador) == Programador and int(nuevo_salario) > programador.base:\n",
        "        programador.base = int(nuevo_salario)\n",
        "        print(\"el nuevo salario del programador es: \")\n",
        "        programador.calcularsueldo()"
      ],
      "metadata": {
        "colab": {
          "base_uri": "https://localhost:8080/"
        },
        "id": "u6vVENZhICLf",
        "outputId": "f19f265b-ba42-41aa-fa76-8dd5529d7a0f"
      },
      "execution_count": null,
      "outputs": [
        {
          "output_type": "stream",
          "name": "stdout",
          "text": [
            "40000\n",
            "Programa\n",
            "\n",
            "25000\n",
            "Apoya\n",
            "\n",
            "50000\n",
            "Gerencia\n",
            "Quieres cambiar el sueldo? \n",
            "si\n",
            "¿Cual quieres que sea el salario base?\n",
            "50000\n",
            "el nuevo salario del programador es: \n",
            "65000\n"
          ]
        }
      ]
    }
  ]
}